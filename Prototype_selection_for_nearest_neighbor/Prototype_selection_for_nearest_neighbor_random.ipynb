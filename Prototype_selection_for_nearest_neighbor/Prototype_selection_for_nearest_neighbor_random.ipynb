{
 "cells": [
  {
   "cell_type": "code",
   "execution_count": 1,
   "metadata": {},
   "outputs": [],
   "source": [
    "import numpy as np\n",
    "import scipy\n",
    "import struct\n",
    "import os\n",
    "from sklearn.neighbors import KNeighborsClassifier\n",
    "from matplotlib.pylab import plt\n",
    "import statistics\n",
    "import math"
   ]
  },
  {
   "cell_type": "code",
   "execution_count": 2,
   "metadata": {},
   "outputs": [],
   "source": [
    "path = \"./mnist_data/\"\n",
    "def read(dataset = \"training\", datatype='images'):\n",
    "    \"\"\"\n",
    "    Python function for importing the MNIST data set. It returns an iterator\n",
    "    of 2-tuples with the first element being the label and the second element\n",
    "    being a numpy.uint8 2D array of pixel data for the given image.\n",
    "    \"\"\"\n",
    "    if dataset is \"training\":\n",
    "        fname_img = os.path.join(path, 'train-images-idx3-ubyte')\n",
    "        fname_lbl = os.path.join(path, 'train-labels-idx1-ubyte')\n",
    "    elif dataset is \"testing\":\n",
    "        fname_img = os.path.join(path, 't10k-images-idx3-ubyte')\n",
    "        fname_lbl = os.path.join(path, 't10k-labels-idx1-ubyte')\n",
    "        \n",
    "    # Load everything in some numpy arrays\n",
    "    with open(fname_lbl, 'rb') as flbl:\n",
    "        magic, num = struct.unpack(\">II\", flbl.read(8))\n",
    "        lbl = np.fromfile(flbl, dtype=np.int8)\n",
    "    with open(fname_img, 'rb') as fimg:\n",
    "        magic, num, rows, cols = struct.unpack(\">IIII\", fimg.read(16))\n",
    "        img = np.fromfile(fimg, dtype=np.uint8).reshape(len(lbl), rows, cols)\n",
    "    if(datatype=='images'):\n",
    "        get_data = lambda idx: img[idx]\n",
    "    elif(datatype=='labels'):\n",
    "        get_data = lambda idx: lbl[idx]\n",
    "    # Create an iterator which returns each image in turn\n",
    "    for i in range(len(lbl)):\n",
    "        yield get_data(i)\n",
    "        \n",
    "trainData=np.array(list(read('training','images')))\n",
    "trainLabels=np.array(list(read('training','labels')))\n",
    "testData=np.array(list(read('testing','images')))\n",
    "testLabels=np.array(list(read('testing','labels')))\n",
    "\n",
    "# Make data 2D\n",
    "trainData = trainData.reshape(trainData.shape[0], -1)\n",
    "testData = testData.reshape(testData.shape[0], -1)\n",
    "# Make labels 2D\n",
    "#trainLabels = trainLabels.reshape(trainLabels.shape[0], -1)\n",
    "#testLabels = testLabels.reshape(testLabels.shape[0], -1)"
   ]
  },
  {
   "cell_type": "code",
   "execution_count": null,
   "metadata": {},
   "outputs": [],
   "source": [
    "# Baseline, 1-NN overall all the dataset\n",
    "neigh = KNeighborsClassifier(n_neighbors=1)\n",
    "neigh.fit(trainData, trainLabels) \n",
    "print(\"Baseline score on 1-NN using all data:{}\".format(neigh.score(testData, testLabels)))"
   ]
  },
  {
   "cell_type": "code",
   "execution_count": 3,
   "metadata": {},
   "outputs": [],
   "source": [
    "def choose_random_samples_per_class(X, y, M):\n",
    "    prots_s = []\n",
    "    labels_s = []\n",
    "\n",
    "    classes = np.unique(y)\n",
    "    sample_per_class = M // len(classes)\n",
    "\n",
    "    # Adding one sample from each class\n",
    "    for cur_class in classes:\n",
    "        mask = y == cur_class\n",
    "        insts = X[mask]\n",
    "        prots_s = prots_s + [insts[np.random.randint(0, insts.shape[0], size=sample_per_class)]]\n",
    "        labels_s = labels_s + [cur_class] * sample_per_class\n",
    "        \n",
    "    return np.asarray(prots_s).reshape(-1, 784), np.asarray(labels_s)"
   ]
  },
  {
   "cell_type": "code",
   "execution_count": 4,
   "metadata": {},
   "outputs": [],
   "source": [
    "def choose_random_samples(X, y, M):\n",
    "    \n",
    "    #indexes = np.random.randint(0, X.shape[0], size=M, seed=42)\n",
    "    indexes = np.random.choice(X.shape[0], size=M, replace=False)\n",
    "    prots_s = X[indexes]\n",
    "    labels_s = y[indexes]\n",
    "        \n",
    "    return np.asarray(prots_s).reshape(-1, 784), np.asarray(labels_s)"
   ]
  },
  {
   "cell_type": "code",
   "execution_count": 5,
   "metadata": {},
   "outputs": [
    {
     "name": "stdout",
     "output_type": "stream",
     "text": [
      "number of samples:60000\n"
     ]
    }
   ],
   "source": [
    "# Nearest Neighbor\n",
    "p = np.random.permutation(trainData.shape[0])\n",
    "trainData = trainData[p]\n",
    "trainLabels = trainLabels[p]\n",
    "print(\"number of samples:{}\".format(trainData.shape[0]))"
   ]
  },
  {
   "cell_type": "code",
   "execution_count": 18,
   "metadata": {},
   "outputs": [
    {
     "name": "stdout",
     "output_type": "stream",
     "text": [
      "number of samples:46465\n"
     ]
    }
   ],
   "source": [
    "# Imbalance the dataset\n",
    "classes = np.unique(trainLabels)\n",
    "b = np.random.uniform(0.30,0.7, 5)\n",
    "# print(a)\n",
    "sample_subsets = []\n",
    "target_subsets = []\n",
    "for cur_class in range(5):\n",
    "    mask = trainLabels == cur_class\n",
    "    insts = trainData[mask]\n",
    "    a = np.random.randint(0, insts.shape[0], (int)(insts.shape[0]*(b[cur_class])))\n",
    "    sample_subsets.append(insts[a])\n",
    "    target_subsets.append(trainLabels[mask][a])\n",
    "\n",
    "for cur_class in range(5, 10):\n",
    "    mask = trainLabels == cur_class\n",
    "    insts = trainData[mask]\n",
    "    sample_subsets.append(insts)\n",
    "    target_subsets.append(trainLabels[mask])\n",
    "    \n",
    "# permutations\n",
    "X_ = np.asarray(sample_subsets)\n",
    "y_ = np.asarray(target_subsets)\n",
    "X = X_[0]\n",
    "y = [0] * len(X_[0])\n",
    "for i in range(1, 10):\n",
    "    X = np.concatenate((X, X_[i]), axis=0)\n",
    "    y += [i] * len(X_[i])\n",
    "    \n",
    "y = np.asarray(y)\n",
    "\n",
    "for _ in range(10):\n",
    "    a = np.random.permutation(X.shape[0])\n",
    "    X = X[a]\n",
    "    y = y[a]\n",
    "    \n",
    "trainData = X\n",
    "trainLabels = y\n",
    "print(\"number of samples:{}\".format(trainData.shape[0]))"
   ]
  },
  {
   "cell_type": "code",
   "execution_count": 6,
   "metadata": {},
   "outputs": [
    {
     "name": "stdout",
     "output_type": "stream",
     "text": [
      "Number of prototype samples:100\n",
      "Mean accuracy:0.708097, Standard Deviation:0.019391195831035685\n",
      "Error at confidence of 95%: 0.0038006743828829944\n"
     ]
    }
   ],
   "source": [
    "acc = []\n",
    "for _ in range(100):\n",
    "    neigh = KNeighborsClassifier(n_neighbors=1)\n",
    "    ProtoData, ProtoLabels = choose_random_samples(trainData, trainLabels, 100)\n",
    "    neigh.fit(ProtoData, ProtoLabels) \n",
    "    acc.append(neigh.score(testData, testLabels))\n",
    "\n",
    "print(\"Number of prototype samples:{}\".format(ProtoData.shape[0]))\n",
    "mean = statistics.mean(acc)\n",
    "std = statistics.stdev(acc)\n",
    "error = (1.96 * std)/ math.sqrt(len(acc))\n",
    "\n",
    "print(\"Mean accuracy:{}, Standard Deviation:{}\".format(mean, std))\n",
    "print(\"Error at confidence of 95%: {}\".format(error))"
   ]
  },
  {
   "cell_type": "code",
   "execution_count": 7,
   "metadata": {},
   "outputs": [
    {
     "name": "stdout",
     "output_type": "stream",
     "text": [
      "Number of prototype samples:500\n",
      "Mean accuracy:0.849601, Standard Deviation:0.0062482885737624285\n",
      "Error at confidence of 95%: 0.001224664560457436\n"
     ]
    }
   ],
   "source": [
    "# Nearest Neighbor\n",
    "acc_500 = []\n",
    "for _ in range(100):\n",
    "    neigh = KNeighborsClassifier(n_neighbors=1)\n",
    "    ProtoData, ProtoLabels = choose_random_samples(trainData, trainLabels, 500)\n",
    "    neigh.fit(ProtoData, ProtoLabels) \n",
    "    acc_500.append(neigh.score(testData, testLabels))\n",
    "\n",
    "print(\"Number of prototype samples:{}\".format(ProtoData.shape[0]))\n",
    "mean = statistics.mean(acc_500)\n",
    "std = statistics.stdev(acc_500)\n",
    "error = (1.96 * std)/ math.sqrt(len(acc_500))\n",
    "\n",
    "print(\"Mean accuracy:{}, Standard Deviation:{}\".format(mean, std))\n",
    "print(\"Error at confidence of 95%: {}\".format(error))"
   ]
  },
  {
   "cell_type": "code",
   "execution_count": 8,
   "metadata": {},
   "outputs": [
    {
     "name": "stdout",
     "output_type": "stream",
     "text": [
      "Number of prototype samples:1000\n",
      "Mean accuracy:0.884519, Standard Deviation:0.004557216388555768\n",
      "Error at confidence of 95%: 0.0008932144121569305\n"
     ]
    }
   ],
   "source": [
    "# Nearest Neighbor\n",
    "acc_1000 = []\n",
    "for _ in range(100):\n",
    "    neigh = KNeighborsClassifier(n_neighbors=1)\n",
    "    ProtoData, ProtoLabels = choose_random_samples(trainData, trainLabels, 1000)\n",
    "    neigh.fit(ProtoData, ProtoLabels)\n",
    "    acc_1000.append(neigh.score(testData, testLabels))\n",
    "    \n",
    "print(\"Number of prototype samples:{}\".format(ProtoData.shape[0]))\n",
    "mean = statistics.mean(acc_1000)\n",
    "std = statistics.stdev(acc_1000)\n",
    "error = (1.96 * std)/ math.sqrt(len(acc_1000))\n",
    "\n",
    "print(\"Mean accuracy:{}, Standard Deviation:{}\".format(mean, std))\n",
    "print(\"Error at confidence of 95%: {}\".format(error))"
   ]
  },
  {
   "cell_type": "code",
   "execution_count": 9,
   "metadata": {},
   "outputs": [
    {
     "name": "stdout",
     "output_type": "stream",
     "text": [
      "Number of prototype samples:5000\n",
      "Mean accuracy:0.935385, Standard Deviation:0.0018742473236750298\n",
      "Error at confidence of 95%: 0.0003673524754403058\n"
     ]
    }
   ],
   "source": [
    "# Nearest Neighbor\n",
    "acc_5000 = []\n",
    "for _ in range(100):\n",
    "    neigh = KNeighborsClassifier(n_neighbors=1)\n",
    "    ProtoData, ProtoLabels = choose_random_samples(trainData, trainLabels, 5000)\n",
    "    neigh.fit(ProtoData, ProtoLabels)\n",
    "    acc_5000.append(neigh.score(testData, testLabels))\n",
    "\n",
    "print(\"Number of prototype samples:{}\".format(ProtoData.shape[0]))\n",
    "mean = statistics.mean(acc_5000)\n",
    "std = statistics.stdev(acc_5000)\n",
    "error = (1.96 * std)/ math.sqrt(len(acc_5000))\n",
    "\n",
    "print(\"Mean accuracy:{}, Standard Deviation:{}\".format(mean, std))\n",
    "print(\"Error at confidence of 95%: {}\".format(error))"
   ]
  },
  {
   "cell_type": "code",
   "execution_count": 10,
   "metadata": {},
   "outputs": [
    {
     "name": "stdout",
     "output_type": "stream",
     "text": [
      "Number of prototype samples:10000\n",
      "Mean accuracy:0.948491, Standard Deviation:0.001910475904537438\n",
      "Error at confidence of 95%: 0.00037445327728933783\n"
     ]
    }
   ],
   "source": [
    "# Nearest Neighbor\n",
    "acc_10000 = []\n",
    "for _ in range(100):\n",
    "    neigh = KNeighborsClassifier(n_neighbors=1)\n",
    "    ProtoData, ProtoLabels = choose_random_samples(trainData, trainLabels, 10000)\n",
    "    neigh.fit(ProtoData, ProtoLabels) \n",
    "    acc_10000.append(neigh.score(testData, testLabels))\n",
    "\n",
    "print(\"Number of prototype samples:{}\".format(ProtoData.shape[0]))\n",
    "mean = statistics.mean(acc_10000)\n",
    "std = statistics.stdev(acc_10000)\n",
    "error = (1.96 * std)/ math.sqrt(len(acc_10000))\n",
    "\n",
    "print(\"Mean accuracy:{}, Standard Deviation:{}\".format(mean, std))\n",
    "print(\"Error at confidence of 95%: {}\".format(error))"
   ]
  },
  {
   "cell_type": "code",
   "execution_count": 71,
   "metadata": {},
   "outputs": [],
   "source": [
    "acc_500_100 = [round(a*100) for a in acc_500] "
   ]
  },
  {
   "cell_type": "code",
   "execution_count": 77,
   "metadata": {},
   "outputs": [],
   "source": [
    "data = {}\n",
    "for a in acc_500_100:\n",
    "    if a not in data:\n",
    "        data[a] = 1\n",
    "    else:\n",
    "        data[a] += 1"
   ]
  },
  {
   "cell_type": "code",
   "execution_count": 78,
   "metadata": {},
   "outputs": [
    {
     "data": {
      "text/plain": [
       "{86.0: 25, 84.0: 28, 85.0: 46, 83.0: 1}"
      ]
     },
     "execution_count": 78,
     "metadata": {},
     "output_type": "execute_result"
    }
   ],
   "source": [
    "data"
   ]
  },
  {
   "cell_type": "code",
   "execution_count": 107,
   "metadata": {},
   "outputs": [
    {
     "name": "stderr",
     "output_type": "stream",
     "text": [
      "/home/amanraj/anaconda3/envs/neural/lib/python3.6/site-packages/matplotlib/axes/_axes.py:6571: UserWarning: The 'normed' kwarg is deprecated, and has been replaced by the 'density' kwarg.\n",
      "  warnings.warn(\"The 'normed' kwarg is deprecated, and has been \"\n"
     ]
    },
    {
     "data": {
      "image/png": "[encoded data removed]",
      "text/plain": [
       "<Figure size 720x576 with 1 Axes>"
      ]
     },
     "metadata": {},
     "output_type": "display_data"
    }
   ],
   "source": [
    "import numpy as np\n",
    "import matplotlib.mlab as mlab\n",
    "import matplotlib.pyplot as plt\n",
    "\n",
    "plt.figure(figsize=(10,8))\n",
    "\n",
    "# the histogram of the data\n",
    "n, bins, patches = plt.hist(acc_500, normed=1, facecolor='green', alpha=0.75)\n",
    "\n",
    "plt.xlabel('Accuracy')\n",
    "plt.ylabel('Frequency')\n",
    "plt.title('Histogram of Random Prototype selection performance')\n",
    "plt.grid(True)\n",
    "\n",
    "plt.show()"
   ]
  },
  {
   "cell_type": "code",
   "execution_count": null,
   "metadata": {},
   "outputs": [],
   "source": []
  },
  {
   "cell_type": "code",
   "execution_count": null,
   "metadata": {},
   "outputs": [],
   "source": []
  }
 ],
 "metadata": {
  "kernelspec": {
   "display_name": "Python 3",
   "language": "python",
   "name": "python3"
  },
  "language_info": {
   "codemirror_mode": {
    "name": "ipython",
    "version": 3
   },
   "file_extension": ".py",
   "mimetype": "text/x-python",
   "name": "python",
   "nbconvert_exporter": "python",
   "pygments_lexer": "ipython3",
   "version": "3.6.8"
  }
 },
 "nbformat": 4,
 "nbformat_minor": 2
}
