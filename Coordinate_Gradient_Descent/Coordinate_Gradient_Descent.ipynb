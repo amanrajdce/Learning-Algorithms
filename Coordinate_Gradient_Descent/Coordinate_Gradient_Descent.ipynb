{
 "cells": [
  {
   "cell_type": "code",
   "execution_count": 1,
   "metadata": {},
   "outputs": [],
   "source": [
    "import numpy as np\n",
    "import scipy\n",
    "import struct\n",
    "import os\n",
    "import sklearn\n",
    "from matplotlib.pylab import plt\n",
    "import statistics\n",
    "import math\n",
    "import sys\n",
    "import pandas as pd\n",
    "from io import StringIO\n",
    "from sklearn.preprocessing import StandardScaler"
   ]
  },
  {
   "cell_type": "code",
   "execution_count": 2,
   "metadata": {},
   "outputs": [
    {
     "data": {
      "text/html": [
       "<div>\n",
       "<style scoped>\n",
       "    .dataframe tbody tr th:only-of-type {\n",
       "        vertical-align: middle;\n",
       "    }\n",
       "\n",
       "    .dataframe tbody tr th {\n",
       "        vertical-align: top;\n",
       "    }\n",
       "\n",
       "    .dataframe thead th {\n",
       "        text-align: right;\n",
       "    }\n",
       "</style>\n",
       "<table border=\"1\" class=\"dataframe\">\n",
       "  <thead>\n",
       "    <tr style=\"text-align: right;\">\n",
       "      <th></th>\n",
       "      <th>label</th>\n",
       "      <th>feat_0</th>\n",
       "      <th>feat_1</th>\n",
       "      <th>feat_2</th>\n",
       "      <th>feat_3</th>\n",
       "      <th>feat_4</th>\n",
       "      <th>feat_5</th>\n",
       "      <th>feat_6</th>\n",
       "      <th>feat_7</th>\n",
       "      <th>feat_8</th>\n",
       "      <th>feat_9</th>\n",
       "      <th>feat_10</th>\n",
       "      <th>feat_11</th>\n",
       "      <th>feat_12</th>\n",
       "    </tr>\n",
       "  </thead>\n",
       "  <tbody>\n",
       "    <tr>\n",
       "      <th>0</th>\n",
       "      <td>1</td>\n",
       "      <td>14.23</td>\n",
       "      <td>1.71</td>\n",
       "      <td>2.43</td>\n",
       "      <td>15.6</td>\n",
       "      <td>127</td>\n",
       "      <td>2.80</td>\n",
       "      <td>3.06</td>\n",
       "      <td>0.28</td>\n",
       "      <td>2.29</td>\n",
       "      <td>5.64</td>\n",
       "      <td>1.04</td>\n",
       "      <td>3.92</td>\n",
       "      <td>1065</td>\n",
       "    </tr>\n",
       "    <tr>\n",
       "      <th>1</th>\n",
       "      <td>1</td>\n",
       "      <td>13.20</td>\n",
       "      <td>1.78</td>\n",
       "      <td>2.14</td>\n",
       "      <td>11.2</td>\n",
       "      <td>100</td>\n",
       "      <td>2.65</td>\n",
       "      <td>2.76</td>\n",
       "      <td>0.26</td>\n",
       "      <td>1.28</td>\n",
       "      <td>4.38</td>\n",
       "      <td>1.05</td>\n",
       "      <td>3.40</td>\n",
       "      <td>1050</td>\n",
       "    </tr>\n",
       "    <tr>\n",
       "      <th>2</th>\n",
       "      <td>1</td>\n",
       "      <td>13.16</td>\n",
       "      <td>2.36</td>\n",
       "      <td>2.67</td>\n",
       "      <td>18.6</td>\n",
       "      <td>101</td>\n",
       "      <td>2.80</td>\n",
       "      <td>3.24</td>\n",
       "      <td>0.30</td>\n",
       "      <td>2.81</td>\n",
       "      <td>5.68</td>\n",
       "      <td>1.03</td>\n",
       "      <td>3.17</td>\n",
       "      <td>1185</td>\n",
       "    </tr>\n",
       "    <tr>\n",
       "      <th>3</th>\n",
       "      <td>1</td>\n",
       "      <td>14.37</td>\n",
       "      <td>1.95</td>\n",
       "      <td>2.50</td>\n",
       "      <td>16.8</td>\n",
       "      <td>113</td>\n",
       "      <td>3.85</td>\n",
       "      <td>3.49</td>\n",
       "      <td>0.24</td>\n",
       "      <td>2.18</td>\n",
       "      <td>7.80</td>\n",
       "      <td>0.86</td>\n",
       "      <td>3.45</td>\n",
       "      <td>1480</td>\n",
       "    </tr>\n",
       "    <tr>\n",
       "      <th>4</th>\n",
       "      <td>1</td>\n",
       "      <td>13.24</td>\n",
       "      <td>2.59</td>\n",
       "      <td>2.87</td>\n",
       "      <td>21.0</td>\n",
       "      <td>118</td>\n",
       "      <td>2.80</td>\n",
       "      <td>2.69</td>\n",
       "      <td>0.39</td>\n",
       "      <td>1.82</td>\n",
       "      <td>4.32</td>\n",
       "      <td>1.04</td>\n",
       "      <td>2.93</td>\n",
       "      <td>735</td>\n",
       "    </tr>\n",
       "  </tbody>\n",
       "</table>\n",
       "</div>"
      ],
      "text/plain": [
       "   label  feat_0  feat_1  feat_2  feat_3  feat_4  feat_5  feat_6  feat_7  \\\n",
       "0      1   14.23    1.71    2.43    15.6     127    2.80    3.06    0.28   \n",
       "1      1   13.20    1.78    2.14    11.2     100    2.65    2.76    0.26   \n",
       "2      1   13.16    2.36    2.67    18.6     101    2.80    3.24    0.30   \n",
       "3      1   14.37    1.95    2.50    16.8     113    3.85    3.49    0.24   \n",
       "4      1   13.24    2.59    2.87    21.0     118    2.80    2.69    0.39   \n",
       "\n",
       "   feat_8  feat_9  feat_10  feat_11  feat_12  \n",
       "0    2.29    5.64     1.04     3.92     1065  \n",
       "1    1.28    4.38     1.05     3.40     1050  \n",
       "2    2.81    5.68     1.03     3.17     1185  \n",
       "3    2.18    7.80     0.86     3.45     1480  \n",
       "4    1.82    4.32     1.04     2.93      735  "
      ]
     },
     "execution_count": 2,
     "metadata": {},
     "output_type": "execute_result"
    }
   ],
   "source": [
    "# load data from csv\n",
    "df = pd.read_csv('./wine_dataset/wine_data.csv')\n",
    "# filter out class 3 labels\n",
    "df = df[df.label != 3]\n",
    "df.head()"
   ]
  },
  {
   "cell_type": "code",
   "execution_count": 3,
   "metadata": {},
   "outputs": [
    {
     "data": {
      "text/plain": [
       "71"
      ]
     },
     "execution_count": 3,
     "metadata": {},
     "output_type": "execute_result"
    }
   ],
   "source": [
    "len(df[df.label==2])"
   ]
  },
  {
   "cell_type": "code",
   "execution_count": 4,
   "metadata": {},
   "outputs": [],
   "source": [
    "ITER = 200"
   ]
  },
  {
   "cell_type": "code",
   "execution_count": 5,
   "metadata": {},
   "outputs": [],
   "source": [
    "# read data\n",
    "data = df[df.columns[1:]]\n",
    "label = df['label']\n",
    "# convert into numpy \n",
    "data = data.values\n",
    "label = label.values\n",
    "label = np.reshape(label, (-1, 1))\n",
    "\n",
    "# shuffle data\n",
    "idx = np.random.permutation(label.shape[0])\n",
    "data = data[idx]\n",
    "label = label[idx]\n",
    "\n",
    "# Normalize data\n",
    "scaler = StandardScaler()\n",
    "data = scaler.fit_transform(data)"
   ]
  },
  {
   "cell_type": "code",
   "execution_count": 6,
   "metadata": {},
   "outputs": [],
   "source": [
    "# some utility function\n",
    "def sigmoid(a):\n",
    "    return 1/(1 + np.exp(-a))\n",
    "\n",
    "def L1_norm(w):\n",
    "    return sum(np.absolute(w))\n",
    "\n",
    "def L2_norm(w):\n",
    "    return sum(np.square(w))\n",
    "\n",
    "def signum(w):\n",
    "    return 1. if w>=0. else -1.\n",
    "\n",
    "def cost_fun(X, y, w, lamb=None, norm=None):\n",
    "    \"\"\"\n",
    "    X: a 2-D array - (n_samples, features)\n",
    "    y: a 1-D array containing class labels\n",
    "    w: parameters/weights\n",
    "    \n",
    "    cost = sum(ln(1 + e^(-y_i(w\u0001x_i))))\n",
    "    \"\"\"\n",
    "    cost = 0\n",
    "    \n",
    "    for idx in range(0, X.shape[0]):\n",
    "        cost += np.log(1/sigmoid(label[idx, 0]*np.dot(data[idx, :], w.T)))\n",
    "        \n",
    "    if norm==\"L1\":\n",
    "        cost += (lamb*L1_norm(w))\n",
    "    if norm==\"L2\":\n",
    "        cost += (lamb*L2_norm(w))\n",
    "\n",
    "    return float(cost)"
   ]
  },
  {
   "cell_type": "code",
   "execution_count": 7,
   "metadata": {},
   "outputs": [],
   "source": [
    "# extending data dimension for handling bias - b\n",
    "data = np.hstack((data, np.ones((data.shape[0], 1))))"
   ]
  },
  {
   "cell_type": "code",
   "execution_count": 8,
   "metadata": {},
   "outputs": [],
   "source": [
    "state = -1\n",
    "def pick_widx(w, mode):\n",
    "    if mode=='random':\n",
    "        w_idx = np.random.randint(0, len(w))\n",
    "        return w_idx\n",
    "    if mode==\"round\":\n",
    "        global state\n",
    "        if state < len(w)-1:\n",
    "            state += 1\n",
    "        else:\n",
    "            state = 0\n",
    "        return state"
   ]
  },
  {
   "cell_type": "markdown",
   "metadata": {},
   "source": [
    "# Coordinate Gradient Descent"
   ]
  },
  {
   "cell_type": "code",
   "execution_count": 9,
   "metadata": {},
   "outputs": [],
   "source": [
    "# Start model fitting\n",
    "def fit_coordinate_descent(mode='round'):\n",
    "    # initialize W\n",
    "    w = [0.] * data.shape[1]\n",
    "    w = np.asarray(w)\n",
    "    cost = []\n",
    "    for itr in range(0, ITER):\n",
    "        # pick a random coordinate to optimize\n",
    "        cost.append(cost_fun(data, label, w))\n",
    "        \n",
    "        def get_grad_by_idx(w_idx):\n",
    "            grad = 0\n",
    "            for idx in range(0, data.shape[0]):\n",
    "                curr_d, curr_lb = data[idx, :], label[idx]\n",
    "                # update w[w_idx] with computed gradient\n",
    "                grad += -(curr_lb*curr_d[w_idx]) * (1-sigmoid(curr_lb*(np.dot(curr_d, w))))\n",
    "                \n",
    "            return grad\n",
    "        \n",
    "        if mode in ['round', 'random']:\n",
    "            w_idx = pick_widx(w, mode)\n",
    "            w[w_idx] = w[w_idx] - 0.01*get_grad_by_idx(w_idx)\n",
    "            \n",
    "        else:\n",
    "            cost_ = []\n",
    "            w_ = [w] * len(w)\n",
    "            for idx in range(0, len(w)):\n",
    "                w_[idx][idx] = w_[idx][idx] - (0.02*get_grad_by_idx(idx))\n",
    "                cost_.append(cost_fun(data, label, w_[idx]))\n",
    "        \n",
    "            idx = cost_.index(min(cost_))\n",
    "            w = w_[idx]\n",
    "    print(w)\n",
    "    return w, cost"
   ]
  },
  {
   "cell_type": "code",
   "execution_count": 10,
   "metadata": {},
   "outputs": [
    {
     "name": "stdout",
     "output_type": "stream",
     "text": [
      "[ 0.08896358  0.02500582  0.03539239 -0.07946394  0.06957936  0.06460812\n",
      "  0.00619936 -0.0079022   0.01249009  0.25241446  0.01249971  0.07246605\n",
      "  0.01367679  2.58117416]\n",
      "[ 0.1168137   0.02589807  0.05908703 -0.07697936  0.04077491  0.03453562\n",
      "  0.06356415 -0.01783837 -0.01808621  0.11079166  0.00304994  0.03948249\n",
      "  0.1367922   2.53221583]\n",
      "[ 0.28278735  0.09158593  0.2035453  -0.23177116  0.06718387  0.02732452\n",
      "  0.11314267 -0.01325699 -0.07463719  0.25852421  0.02314908  0.17887301\n",
      "  0.45520915  5.05615071]\n"
     ]
    }
   ],
   "source": [
    "w1, cost1 = fit_coordinate_descent(\"random\")\n",
    "w2, cost2 = fit_coordinate_descent(\"round\")\n",
    "w3, cost3 = fit_coordinate_descent(\"exhaustive\")"
   ]
  },
  {
   "cell_type": "markdown",
   "metadata": {},
   "source": [
    "# K-Sparse Coordinate Gradient Descent"
   ]
  },
  {
   "cell_type": "code",
   "execution_count": 11,
   "metadata": {},
   "outputs": [],
   "source": [
    "# Start model fitting for \n",
    "def fit_sparse_coordinate_descent(lamb, norm):\n",
    "    # initialize W\n",
    "    #w = np.random.rand(14)\n",
    "    w = [0.] * data.shape[1]\n",
    "    w = np.asarray(w)\n",
    "    cost = []\n",
    "    for itr in range(0, ITER):\n",
    "        # pick a coordinate adaptively\n",
    "        cost.append(cost_fun(data, label, w, lamb, norm))\n",
    "        \n",
    "        def get_grad_by_idx(w_idx):\n",
    "            grad = 0\n",
    "            for idx in range(0, data.shape[0]):\n",
    "                curr_d, curr_lb = data[idx, :], label[idx]\n",
    "                # update w[w_idx] with computed gradient\n",
    "                grad += -(curr_lb*curr_d[w_idx]) * (1-sigmoid(curr_lb*(np.dot(curr_d, w))))\n",
    "                \n",
    "            if norm==\"L1\":\n",
    "                grad += (lamb*signum(w[w_idx]))\n",
    "            if norm==\"L2\":\n",
    "                grad += (2*lamb*w[w_idx])\n",
    "                \n",
    "            return grad\n",
    "\n",
    "        cost_ = []\n",
    "        w_ = [w] * len(w)\n",
    "        for idx in range(0, len(w)):\n",
    "            w_[idx][idx] = w_[idx][idx] - (0.02*get_grad_by_idx(idx))\n",
    "            cost_.append(cost_fun(data, label, w_[idx], lamb, norm))\n",
    "\n",
    "        idx = cost_.index(min(cost_))\n",
    "        w = w_[idx]\n",
    "\n",
    "    print(w)\n",
    "    return w, cost"
   ]
  },
  {
   "cell_type": "code",
   "execution_count": 12,
   "metadata": {},
   "outputs": [
    {
     "name": "stdout",
     "output_type": "stream",
     "text": [
      "[ 0.0252605  -0.01808808  0.00940722 -0.04381186  0.04300848 -0.01836778\n",
      "  0.03138884  0.01354168 -0.01372444  0.05403706 -0.0036646   0.04012893\n",
      "  0.03776355  3.34637136]\n",
      "[ 0.1158173   0.02220471  0.0642281  -0.07630912  0.01260581  0.00720505\n",
      "  0.02780289 -0.00589894 -0.00875101  0.06159012  0.00259249  0.04932121\n",
      "  0.13675391  2.11698999]\n"
     ]
    }
   ],
   "source": [
    "w4, cost4 = fit_sparse_coordinate_descent(lamb=2., norm=\"L1\")\n",
    "w5, cost5 = fit_sparse_coordinate_descent(lamb=2., norm=\"L2\")"
   ]
  },
  {
   "cell_type": "code",
   "execution_count": 13,
   "metadata": {},
   "outputs": [
    {
     "data": {
      "text/plain": [
       "<matplotlib.legend.Legend at 0x7f8a4c774f28>"
      ]
     },
     "execution_count": 13,
     "metadata": {},
     "output_type": "execute_result"
    },
    {
     "data": {
      "image/png": "[encoded data removed]",
      "text/plain": [
       "<Figure size 432x288 with 1 Axes>"
      ]
     },
     "metadata": {},
     "output_type": "display_data"
    }
   ],
   "source": [
    "plt.plot(range(len(cost4)), cost4, label=\"CD_exhaustive_sparse_L1\")\n",
    "#plt.plot(range(len(cost5)), cost5, label=\"CD_exhaustive_sparse_L2\")\n",
    "plt.legend()"
   ]
  },
  {
   "cell_type": "code",
   "execution_count": 19,
   "metadata": {},
   "outputs": [],
   "source": [
    "# Choose K-sparse\n",
    "def choose_top_k(k, w):\n",
    "    w_ = np.sort(np.absolute(w))\n",
    "    item = list(w_[-k:])\n",
    "    w_ = np.zeros(14)\n",
    "    for idx in range(0, len(w)):\n",
    "        if w[idx] in item or -w[idx] in item:\n",
    "            w_[idx] = w[idx]\n",
    "\n",
    "    return w_\n",
    "  \n",
    "def plot_k_curve(w):\n",
    "    cost = []\n",
    "    for k in range(0, data.shape[1]):\n",
    "        cost.append(cost_fun(data, label, choose_top_k(k+1, w)))\n",
    "    \n",
    "    plt.figure()\n",
    "    plt.plot(range(len(cost)), cost, label=\"CD Exhaustive L1\")\n",
    "    plt.xlabel('Value of K')\n",
    "    plt.ylabel('Loss')\n",
    "    plt.title('Coordinate Descent with L1 Regularizer')\n",
    "    plt.grid(True)\n",
    "    plt.legend()\n",
    "    plt.savefig('l1versusk.png', format='png', dpi=300)"
   ]
  },
  {
   "cell_type": "code",
   "execution_count": 20,
   "metadata": {},
   "outputs": [
    {
     "data": {
      "image/png": "[encoded data removed]",
      "text/plain": [
       "<Figure size 432x288 with 1 Axes>"
      ]
     },
     "metadata": {},
     "output_type": "display_data"
    }
   ],
   "source": [
    "plot_k_curve(w4)"
   ]
  },
  {
   "cell_type": "markdown",
   "metadata": {},
   "source": [
    "# Gradient Descent"
   ]
  },
  {
   "cell_type": "code",
   "execution_count": 16,
   "metadata": {},
   "outputs": [],
   "source": [
    "# Start model fitting for \n",
    "def fit_gradient_descent():\n",
    "    # initialize W\n",
    "    w = [0.] * data.shape[1]\n",
    "    w = np.asarray(w)\n",
    "    cost = []\n",
    "    for itr in range(0, ITER):\n",
    "        # pick a coordinate adaptively\n",
    "        cost.append(cost_fun(data, label, w))\n",
    "        \n",
    "        def get_grad_by_idx(w_idx):\n",
    "            grad = 0\n",
    "            for idx in range(0, data.shape[0]):\n",
    "                curr_d, curr_lb = data[idx, :], label[idx]\n",
    "                # update w[w_idx] with computed gradient\n",
    "                grad += -(curr_lb*curr_d[w_idx]) * (1-sigmoid(curr_lb*(np.dot(curr_d, w))))\n",
    "                \n",
    "            return grad\n",
    "    \n",
    "        for idx in range(0, len(w)):\n",
    "            w[idx] = w[idx] - (0.01*get_grad_by_idx(idx))\n",
    "\n",
    "    print(w)\n",
    "    return cost"
   ]
  },
  {
   "cell_type": "code",
   "execution_count": 17,
   "metadata": {},
   "outputs": [
    {
     "name": "stdout",
     "output_type": "stream",
     "text": [
      "[ 0.31724424  0.06841889  0.18038142 -0.19643803  0.050703    0.02552257\n",
      "  0.09591075 -0.02092156 -0.04278448  0.17691867  0.02026169  0.13756965\n",
      "  0.37627983  4.50947199]\n"
     ]
    }
   ],
   "source": [
    "cost6 = fit_gradient_descent()"
   ]
  },
  {
   "cell_type": "code",
   "execution_count": 18,
   "metadata": {},
   "outputs": [
    {
     "data": {
      "image/png": "[encoded data removed]",
      "text/plain": [
       "<Figure size 432x288 with 1 Axes>"
      ]
     },
     "metadata": {},
     "output_type": "display_data"
    }
   ],
   "source": [
    "plt.figure()\n",
    "plt.plot(range(len(cost1)), cost1, label=\"CD Random\")\n",
    "plt.plot(range(len(cost2)), cost2, label=\"CD Round\")\n",
    "plt.plot(range(len(cost3)), cost3, label=\"CD Exhaustive\")\n",
    "plt.plot(range(len(cost6)), cost6, label=\"Gradient Descent\")\n",
    "plt.xlabel('Iteration')\n",
    "plt.ylabel('Loss')\n",
    "plt.title('Variation of loss with respect to iteration')\n",
    "plt.grid(True)\n",
    "plt.legend()\n",
    "plt.savefig('losscurve.png', format='png', dpi=300)"
   ]
  },
  {
   "cell_type": "code",
   "execution_count": null,
   "metadata": {},
   "outputs": [],
   "source": []
  }
 ],
 "metadata": {
  "kernelspec": {
   "display_name": "Python 3",
   "language": "python",
   "name": "python3"
  },
  "language_info": {
   "codemirror_mode": {
    "name": "ipython",
    "version": 3
   },
   "file_extension": ".py",
   "mimetype": "text/x-python",
   "name": "python",
   "nbconvert_exporter": "python",
   "pygments_lexer": "ipython3",
   "version": "3.6.8"
  }
 },
 "nbformat": 4,
 "nbformat_minor": 2
}
