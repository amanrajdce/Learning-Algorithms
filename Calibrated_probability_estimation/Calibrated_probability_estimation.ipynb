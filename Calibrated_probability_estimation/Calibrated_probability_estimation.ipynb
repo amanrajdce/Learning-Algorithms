{
 "cells": [
  {
   "cell_type": "code",
   "execution_count": 1,
   "metadata": {},
   "outputs": [],
   "source": [
    "import numpy as np\n",
    "import scipy\n",
    "import struct\n",
    "import os\n",
    "import sklearn\n",
    "from matplotlib.pylab import plt\n",
    "import statistics\n",
    "import math\n",
    "import sys\n",
    "import pandas as pd\n",
    "import re\n",
    "import string\n",
    "from sklearn.feature_extraction.text import CountVectorizer\n",
    "from sklearn.svm import LinearSVC\n",
    "from sklearn.model_selection import cross_validate\n",
    "from sklearn.linear_model import LogisticRegression\n",
    "from sklearn.isotonic import IsotonicRegression\n",
    "from matplotlib import collections  as mc\n",
    "from sklearn.calibration import calibration_curve"
   ]
  },
  {
   "cell_type": "code",
   "execution_count": 2,
   "metadata": {},
   "outputs": [],
   "source": [
    "# read line by line with label\n",
    "with open('./full_set.txt', 'r') as f:\n",
    "    lines = f.readlines()\n",
    "    \n",
    "lines = [lin.rstrip('\\n').split('\\t') for lin in lines]"
   ]
  },
  {
   "cell_type": "code",
   "execution_count": 3,
   "metadata": {},
   "outputs": [],
   "source": [
    "data, label = [], []\n",
    "# compile a regex to remove digits and punctuations\n",
    "regex1 = re.compile(r\"[0-9]+\")\n",
    "regex2 = re.compile(r'[%s]' % re.escape(string.punctuation))\n",
    "for lin in lines:\n",
    "    data.append(regex2.sub('', regex1.sub('', lin[0]).lower()))\n",
    "    label.append(int(lin[1]))"
   ]
  },
  {
   "cell_type": "code",
   "execution_count": 4,
   "metadata": {},
   "outputs": [],
   "source": [
    "# vectorize string data using bag of words, 5000 words max\n",
    "vectorizer = CountVectorizer(\n",
    "    lowercase=True,\n",
    "    stop_words=['the', 'a', 'an', 'i', 'he', 'she', 'they', 'to', 'of', 'it', 'from'], \n",
    "    max_features=5000,\n",
    "    )\n",
    "# vectorize data\n",
    "data = vectorizer.fit_transform(data)\n",
    "data = data.toarray()\n",
    "label = np.asarray(label)\n",
    "# check same number of samples in data and label\n",
    "assert(data.shape[0] == label.shape[0])"
   ]
  },
  {
   "cell_type": "code",
   "execution_count": 5,
   "metadata": {},
   "outputs": [
    {
     "name": "stdout",
     "output_type": "stream",
     "text": [
      "Number of smaples positive:1500, negative:1500\n"
     ]
    }
   ],
   "source": [
    "# divide data into training:2200, calibration:400 and test:400 sets\n",
    "# with positive and negative samples balanced\n",
    "pos_idx = label == 1\n",
    "neg_idx = label == 0\n",
    "pos, pos_lb = data[pos_idx], label[pos_idx]\n",
    "neg, neg_lb = data[neg_idx], label[neg_idx]\n",
    "print(\"Number of smaples positive:{}, negative:{}\".format(len(pos), len(neg)))\n",
    "\n",
    "# splitting dataset and shuffle\n",
    "train = np.concatenate((pos[:1100], neg[:1100]), axis=0)\n",
    "train_lb = np.concatenate((pos_lb[:1100], neg_lb[:1100]), axis=0)\n",
    "idx = np.random.permutation(len(train))\n",
    "train, train_lb = train[idx], train_lb[idx]\n",
    "\n",
    "calib = np.concatenate((pos[1100:1300], neg[1100:1300]), axis=0)\n",
    "calib_lb = np.concatenate((pos_lb[1100:1300], neg_lb[1100:1300]), axis=0)\n",
    "idx = np.random.permutation(len(calib))\n",
    "calib, calib_lb = calib[idx], calib_lb[idx]\n",
    "\n",
    "test = np.concatenate((pos[1300:], neg[1300:]), axis=0)\n",
    "test_lb = np.concatenate((pos_lb[1300:], neg_lb[1300:]), axis=0)\n",
    "idx = np.random.permutation(len(test))\n",
    "test, test_lb = test[idx], test_lb[idx]"
   ]
  },
  {
   "cell_type": "markdown",
   "metadata": {},
   "source": [
    "## Step 1 : Learning a Classifier: SVM"
   ]
  },
  {
   "cell_type": "code",
   "execution_count": 6,
   "metadata": {},
   "outputs": [],
   "source": [
    "# get bunch of C parameters to try using cross-validation\n",
    "cs = np.linspace(0.01, 3.0, num=30, endpoint=True)\n",
    "results = {'c':[], 'error':[]}\n",
    "for c in cs:\n",
    "    clf = LinearSVC(C=c, random_state=0, tol=1e-5, max_iter=5000, dual=False)\n",
    "    cv_results = cross_validate(clf, train, train_lb, cv=5, return_train_score=False, n_jobs=4)\n",
    "    results['error'].append(1.-np.mean(cv_results['test_score']))\n",
    "    results['c'].append(c)"
   ]
  },
  {
   "cell_type": "code",
   "execution_count": 7,
   "metadata": {},
   "outputs": [
    {
     "data": {
      "image/png": "[encoded data removed]",
      "text/plain": [
       "<Figure size 432x288 with 1 Axes>"
      ]
     },
     "metadata": {},
     "output_type": "display_data"
    }
   ],
   "source": [
    "plt.figure()\n",
    "plt.plot(results['c'], results['error'], label=\"SVM\")\n",
    "plt.xlim(-0.1, 3.0)\n",
    "plt.xlabel('Value of C')\n",
    "plt.ylabel('Error')\n",
    "#plt.title('Variation of 5-fold cross-validated error')\n",
    "plt.grid(True)\n",
    "plt.legend()\n",
    "plt.savefig('cversuserror.png', format='png', dpi=300)"
   ]
  },
  {
   "cell_type": "code",
   "execution_count": 8,
   "metadata": {},
   "outputs": [
    {
     "name": "stdout",
     "output_type": "stream",
     "text": [
      "Value of chosen C: 0.31931034482758625\n",
      "Resulting error rate of SVM on test set choosing best C: 0.265\n"
     ]
    }
   ],
   "source": [
    "# choose best C for fitting LinearSVC\n",
    "C = results['c'][np.argmin(results['error'])]\n",
    "svm = LinearSVC(C=C, random_state=0, tol=1e-5, max_iter=10000, dual=False)\n",
    "svm.fit(train, train_lb)\n",
    "print(\"Value of chosen C: {}\".format(C))\n",
    "print(\"Resulting error rate of SVM on test set choosing best C: {}\".format(1. - svm.score(test, test_lb)))"
   ]
  },
  {
   "cell_type": "markdown",
   "metadata": {},
   "source": [
    "## Step 2: Learning a monotonic transformation"
   ]
  },
  {
   "cell_type": "code",
   "execution_count": 9,
   "metadata": {},
   "outputs": [],
   "source": [
    "# spquashig function \n",
    "def sigmoid(z):\n",
    "    return 1/(1 + np.exp(-z))"
   ]
  },
  {
   "cell_type": "code",
   "execution_count": 10,
   "metadata": {},
   "outputs": [],
   "source": [
    "# gives: z = w.x + b\n",
    "calib_zx = np.reshape(svm.decision_function(calib), (-1, 1))\n",
    "test_zx = np.reshape(svm.decision_function(test), (-1, 1))\n",
    "# squashing function \n",
    "squash_prob = sigmoid(test_zx)\n",
    "\n",
    "# platt scaling using logistic regression\n",
    "# intercept, b = 0\n",
    "platt = LogisticRegression(C=1.0, max_iter=1000, fit_intercept=False)\n",
    "platt.fit(calib_zx, calib_lb)\n",
    "platt_prob = sigmoid(platt.coef_*test_zx + platt.intercept_)\n",
    "\n",
    "# intercept b \n",
    "platt_b = LogisticRegression(C=1.0, max_iter=1000, fit_intercept=True)\n",
    "platt_b.fit(calib_zx, calib_lb)\n",
    "platt_b_prob = sigmoid(platt_b.coef_*test_zx + platt_b.intercept_)"
   ]
  },
  {
   "cell_type": "code",
   "execution_count": 11,
   "metadata": {},
   "outputs": [],
   "source": [
    "# isotonic regression\n",
    "isotonic = IsotonicRegression(out_of_bounds='clip')\n",
    "isotonic.fit(calib_zx[:, 0], calib_lb)\n",
    "isotonic_prob = isotonic.transform(test_zx[:, 0])"
   ]
  },
  {
   "cell_type": "markdown",
   "metadata": {},
   "source": [
    "## Step 3: Evaluating the predicted probabilities (reliability diagram)"
   ]
  },
  {
   "cell_type": "code",
   "execution_count": 12,
   "metadata": {},
   "outputs": [],
   "source": [
    "def plot_reliability_curve(lines, labels, name):\n",
    "    fig, ax = plt.subplots()\n",
    "    colors = ['r', 'g', 'b', 'k']\n",
    "    for idx, lc in enumerate(lines):\n",
    "        lc = mc.LineCollection(lc, colors=colors[idx], linewidths=2)\n",
    "        ax.add_collection(lc)\n",
    "        \n",
    "    ax.autoscale()\n",
    "    ax.margins(0.1)\n",
    "    ax.legend(labels, loc='upper left')\n",
    "    \n",
    "    #fig.suptitle('Reliability Curve', fontsize=12)\n",
    "    ax.set_xlabel('Predicted probability of y=1', fontsize=12)\n",
    "    ax.set_ylabel('Actual probability of y=1', fontsize=12) \n",
    "    plt.draw()\n",
    "    plt.savefig(name+'.png', format='png', dpi=300)  "
   ]
  },
  {
   "cell_type": "code",
   "execution_count": 13,
   "metadata": {},
   "outputs": [
    {
     "data": {
      "image/png": "[encoded data removed]",
      "text/plain": [
       "<Figure size 432x288 with 1 Axes>"
      ]
     },
     "metadata": {},
     "output_type": "display_data"
    }
   ],
   "source": [
    "# squasting function plot\n",
    "true_prob, _ = calibration_curve(test_lb, squash_prob, n_bins=10)\n",
    "line = [[(idx/10, true_prob[idx]), (idx/10+0.1, true_prob[idx])] for idx in range(0, len(true_prob))]\n",
    "plot_reliability_curve(lines=[line], labels=['Squashing Fun'], name=\"squash\")"
   ]
  },
  {
   "cell_type": "code",
   "execution_count": 14,
   "metadata": {},
   "outputs": [
    {
     "data": {
      "image/png": "[encoded data removed]",
      "text/plain": [
       "<Figure size 432x288 with 1 Axes>"
      ]
     },
     "metadata": {},
     "output_type": "display_data"
    }
   ],
   "source": [
    "# platt scaling function plot\n",
    "true_prob, _ = calibration_curve(test_lb, platt_prob, n_bins=10)\n",
    "line1 = [[(idx/10, true_prob[idx]), (idx/10+0.1, true_prob[idx])] for idx in range(0, len(true_prob))]\n",
    "\n",
    "true_prob, _ = calibration_curve(test_lb, platt_b_prob, n_bins=10)\n",
    "line2 = [[(idx/10, true_prob[idx]), (idx/10+0.1, true_prob[idx])] for idx in range(0, len(true_prob))]\n",
    "\n",
    "plot_reliability_curve(lines=[line1, line2], labels=['Platt Scaling', 'Platt Scaling + intercept'], name=\"platt\")"
   ]
  },
  {
   "cell_type": "code",
   "execution_count": 15,
   "metadata": {},
   "outputs": [
    {
     "data": {
      "text/plain": [
       "array([0.2       , 0.11111111, 0.28      , 0.15789474, 0.51111111,\n",
       "       0.42857143, 0.67307692, 0.825     , 0.88888889, 0.93103448])"
      ]
     },
     "execution_count": 15,
     "metadata": {},
     "output_type": "execute_result"
    }
   ],
   "source": [
    "true_prob"
   ]
  },
  {
   "cell_type": "code",
   "execution_count": 16,
   "metadata": {},
   "outputs": [
    {
     "data": {
      "image/png": "[encoded data removed]",
      "text/plain": [
       "<Figure size 432x288 with 1 Axes>"
      ]
     },
     "metadata": {},
     "output_type": "display_data"
    }
   ],
   "source": [
    "# isotonic regression function plot\n",
    "true_prob, _ = calibration_curve(test_lb, isotonic_prob, n_bins=10)\n",
    "line = [[(idx/10, true_prob[idx]), (idx/10+0.1, true_prob[idx])] for idx in range(0, len(true_prob))]\n",
    "plot_reliability_curve(lines=[line], labels=['Isotonic Regression'], name=\"isotonic\")"
   ]
  },
  {
   "cell_type": "code",
   "execution_count": null,
   "metadata": {},
   "outputs": [],
   "source": []
  }
 ],
 "metadata": {
  "kernelspec": {
   "display_name": "Python 3",
   "language": "python",
   "name": "python3"
  },
  "language_info": {
   "codemirror_mode": {
    "name": "ipython",
    "version": 3
   },
   "file_extension": ".py",
   "mimetype": "text/x-python",
   "name": "python",
   "nbconvert_exporter": "python",
   "pygments_lexer": "ipython3",
   "version": "3.6.8"
  }
 },
 "nbformat": 4,
 "nbformat_minor": 2
}
