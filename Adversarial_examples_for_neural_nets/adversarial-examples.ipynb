{
 "cells": [
  {
   "cell_type": "code",
   "execution_count": 1,
   "metadata": {},
   "outputs": [],
   "source": [
    "from __future__ import print_function\n",
    "import numpy as np\n",
    "import matplotlib.pyplot as plt\n",
    "import statistics\n",
    "import math\n",
    "from collections import defaultdict"
   ]
  },
  {
   "cell_type": "code",
   "execution_count": 2,
   "metadata": {},
   "outputs": [],
   "source": [
    "def softmax(x):\n",
    "    '''\n",
    "    Input\n",
    "         x: a vector in ndarray format, \n",
    "            typically the raw score of prediction.\n",
    "    Output \n",
    "         a vector in ndarray format,\n",
    "         typically representing the predicted class probability.\n",
    "    '''\n",
    "    res = np.exp(x-np.max(x))\n",
    "    return res/np.sum(res)\n",
    "\n",
    "def cross_entropy(y, p):\n",
    "    '''\n",
    "    Input\n",
    "        y: an int representing the class label\n",
    "        p: a vector in ndarray format showing the predicted\n",
    "           probability of each class.\n",
    "           \n",
    "    Output\n",
    "        the cross entropy loss. \n",
    "    '''\n",
    "    log_likelihood = -np.log(p)\n",
    "    return log_likelihood[y]\n",
    "\n",
    "def relu(x):\n",
    "    '''\n",
    "    Input\n",
    "        x: a vector in ndarray format\n",
    "    Output\n",
    "        a vector in ndarray format,\n",
    "        representing the ReLu activation of x.\n",
    "    '''\n",
    "    return np.maximum(x, 0)"
   ]
  },
  {
   "cell_type": "code",
   "execution_count": 3,
   "metadata": {},
   "outputs": [],
   "source": [
    "class MultiLayerPerceptron():\n",
    "    '''\n",
    "    This class defines the multi-layer perceptron we will be using\n",
    "    as the attack target.\n",
    "    \n",
    "    '''\n",
    "    def __init__(self):\n",
    "        self.eps = 0.1\n",
    "        self.labels = [0, 1, 2, 3, 4, 5, 6, 7, 8, 9]\n",
    "    \n",
    "    def load_params(self, params, num_layers=4):\n",
    "        '''\n",
    "        This method loads the weights and biases of a trained model.\n",
    "        '''\n",
    "        self.W1 = params[\"fc1.weight\"]\n",
    "        self.b1 = params[\"fc1.bias\"]\n",
    "        self.W2 = params[\"fc2.weight\"]\n",
    "        self.b2 = params[\"fc2.bias\"]\n",
    "        self.W3 = params[\"fc3.weight\"]\n",
    "        self.b3 = params[\"fc3.bias\"]\n",
    "        self.W4 = params[\"fc4.weight\"]\n",
    "        self.b4 = params[\"fc4.bias\"]\n",
    "        self.layers = num_layers\n",
    "        \n",
    "    def set_attack_budget(self, eps):\n",
    "        '''\n",
    "        This method sets the maximum L_infty norm of the adversarial\n",
    "        perturbation.\n",
    "        '''\n",
    "        self.eps = eps\n",
    "        \n",
    "    def forward(self, x):\n",
    "        '''\n",
    "        This method finds the predicted probability vector of an input\n",
    "        image x.\n",
    "        \n",
    "        Input\n",
    "            x: a single image vector in ndarray format\n",
    "        Ouput\n",
    "            a vector in ndarray format representing the predicted class\n",
    "            probability of x.\n",
    "            \n",
    "        Intermediate results are stored as class attributes.\n",
    "        You might need them for gradient computation.\n",
    "        '''\n",
    "        W1, W2, W3, W4 = self.W1, self.W2, self.W3, self.W4\n",
    "        b1, b2, b3, b4 = self.b1, self.b2, self.b3, self.b4\n",
    "        self.Ws = [W1, W2, W3, W4]\n",
    "        \n",
    "        self.z1 = np.matmul(x,W1)+b1\n",
    "        self.h1 = relu(self.z1)\n",
    "        self.z2 = np.matmul(self.h1,W2)+b2\n",
    "        self.h2 = relu(self.z2)\n",
    "        self.z3 = np.matmul(self.h2,W3)+b3\n",
    "        self.h3 = relu(self.z3)\n",
    "        self.z4 = np.matmul(self.h3,W4)+b4\n",
    "        self.p = softmax(self.z4)\n",
    "        self.hs = [self.h1, self.h2, self.h3]\n",
    "        \n",
    "        return self.p\n",
    "        \n",
    "    def predict(self, x):\n",
    "        '''\n",
    "        This method takes a single image vector x and returns the \n",
    "        predicted class label of it.\n",
    "        '''\n",
    "        res = self.forward(x)\n",
    "        return np.argmax(res)\n",
    "    \n",
    "    def get_one_hot(self, targets, nb_classes):\n",
    "        res = np.eye(nb_classes, dtype='float32')[np.array(targets).reshape(-1)]\n",
    "        return res.reshape(list(targets.shape)+[nb_classes])\n",
    "    \n",
    "    def gradient_h_z(self, z_idx, h_idx):\n",
    "        \"\"\"\n",
    "        returns dh/dz\n",
    "        \"\"\"\n",
    "        h = self.hs[h_idx-1]\n",
    "        grad = np.eye(h.shape[0])\n",
    "        for idx in range(0, len(h)):\n",
    "            if h[idx] > 0:\n",
    "                grad[idx][idx] = 1.\n",
    "            else:\n",
    "                grad[idx][idx] = 0.\n",
    "            \n",
    "        return grad\n",
    "\n",
    "    def gradient_z_h(self, z_idx, h_idx):\n",
    "        \"\"\"\n",
    "        returns dz/dh\n",
    "        \"\"\"\n",
    "        return self.Ws[z_idx-1].T\n",
    "        \n",
    "    \n",
    "    def gradient(self,x,y):\n",
    "        ''' \n",
    "        This method finds the gradient of the cross-entropy loss\n",
    "        of an image-label pair (x,y) w.r.t. to the image x.\n",
    "        \n",
    "        Input\n",
    "            x: the input image vector in ndarray format\n",
    "            y: the true label of x\n",
    "            \n",
    "        Output\n",
    "            a vector in ndarray format representing\n",
    "            the gradient of the cross-entropy loss of (x,y)\n",
    "            w.r.t. the image x.\n",
    "        '''\n",
    "        \n",
    "        grad = np.eye(x.shape[0])\n",
    "        # total number of layers\n",
    "        l = self.layers\n",
    "        for idx in range(1, l):\n",
    "            z_h = self.gradient_z_h(z_idx=idx, h_idx=idx-1)\n",
    "            h_z = self.gradient_h_z(z_idx=idx, h_idx=idx)\n",
    "            grad = np.matmul(np.matmul(h_z, z_h), grad)\n",
    "        \n",
    "        z_h = self.gradient_z_h(z_idx=l, h_idx=l-1)\n",
    "        grad = np.matmul(z_h, grad)\n",
    "        p = np.reshape(self.p, (1, 10))\n",
    "        y = self.get_one_hot(np.array([y]), len(self.p))\n",
    "        \n",
    "        # final gradient\n",
    "        grad = np.matmul((p-y), grad)\n",
    "        \n",
    "        return grad\n",
    "        \n",
    "    \n",
    "    def fgm_attack(self,x,y,eps=None):\n",
    "        '''\n",
    "        This method generates the adversarial example of an\n",
    "        image-label pair (x,y).\n",
    "        \n",
    "        Input\n",
    "            x: an image vector in ndarray format, representing\n",
    "               the image to be corrupted.\n",
    "            y: the true label of the image x.\n",
    "            \n",
    "        Output\n",
    "            a vector in ndarray format, representing\n",
    "            the adversarial example created from image x.\n",
    "        '''\n",
    "        y_ = self.predict(x)\n",
    "        grad = self.gradient(x, y)\n",
    "        if eps is not None:\n",
    "            self.eps = eps\n",
    "        x = np.reshape(x, (1, -1)) + (self.eps * np.sign(grad))\n",
    "        \n",
    "        return x\n",
    "    \n",
    "    def tfgm_attack(self,x,y,eps=None):\n",
    "        '''\n",
    "        This method generates the adversarial example of an\n",
    "        image-label pair (x,y).\n",
    "        \n",
    "        Input\n",
    "            x: an image vector in ndarray format, representing\n",
    "               the image to be corrupted.\n",
    "            y: the true label of the image x.\n",
    "            \n",
    "        Output\n",
    "            a vector in ndarray format, representing\n",
    "            the adversarial example created from image x.\n",
    "        '''\n",
    "        y_ = self.predict(x)\n",
    "        yt = np.random.choice(self.labels, 1)\n",
    "        while yt == y:\n",
    "            yt = np.random.choice(self.labels, 1)\n",
    "\n",
    "        grad = self.gradient(x, yt)\n",
    "        if eps is not None:\n",
    "            self.eps = eps\n",
    "        x = np.reshape(x, (1, -1)) - (self.eps * np.sign(grad))\n",
    "        \n",
    "        return x"
   ]
  },
  {
   "cell_type": "code",
   "execution_count": 4,
   "metadata": {},
   "outputs": [],
   "source": [
    "X_test = np.load(\"./data/X_test.npy\")\n",
    "Y_test = np.load(\"./data/Y_test.npy\")\n",
    "\n",
    "params = {}\n",
    "param_names = [\"fc1.weight\", \"fc1.bias\",\n",
    "               \"fc2.weight\", \"fc2.bias\",\n",
    "               \"fc3.weight\", \"fc3.bias\",\n",
    "               \"fc4.weight\", \"fc4.bias\"]\n",
    "\n",
    "for name in param_names:\n",
    "    params[name] = np.load(\"./data/\"+name+'.npy')\n",
    "    \n",
    "clf = MultiLayerPerceptron()\n",
    "clf.load_params(params)"
   ]
  },
  {
   "cell_type": "code",
   "execution_count": 5,
   "metadata": {},
   "outputs": [
    {
     "name": "stdout",
     "output_type": "stream",
     "text": [
      "This is an image of Number 7\n"
     ]
    },
    {
     "data": {
      "text/plain": [
       "<matplotlib.image.AxesImage at 0x7fdffae03550>"
      ]
     },
     "execution_count": 5,
     "metadata": {},
     "output_type": "execute_result"
    },
    {
     "data": {
      "image/png": "[encoded data removed]",
      "text/plain": [
       "<Figure size 432x288 with 1 Axes>"
      ]
     },
     "metadata": {},
     "output_type": "display_data"
    }
   ],
   "source": [
    "x, y = X_test[0], Y_test[0]\n",
    "print (\"This is an image of Number\", y)\n",
    "pixels = x.reshape((28,28))\n",
    "plt.imshow(pixels,cmap=\"gray\")"
   ]
  },
  {
   "cell_type": "markdown",
   "metadata": {},
   "source": [
    "### Accuracy on test data"
   ]
  },
  {
   "cell_type": "code",
   "execution_count": 6,
   "metadata": {},
   "outputs": [
    {
     "name": "stdout",
     "output_type": "stream",
     "text": [
      "Test accuracy is 0.976\n"
     ]
    }
   ],
   "source": [
    "nTest = 1000\n",
    "Y_pred = np.zeros(nTest)\n",
    "for i in range(nTest):\n",
    "    x, y = X_test[i], Y_test[i]\n",
    "    Y_pred[i] = clf.predict(x)\n",
    "acc = np.sum(Y_pred == Y_test[:nTest])*1.0/nTest\n",
    "print (\"Test accuracy is\", acc)"
   ]
  },
  {
   "cell_type": "markdown",
   "metadata": {},
   "source": [
    "### Accuracy on Adversial examples of test data"
   ]
  },
  {
   "cell_type": "code",
   "execution_count": 7,
   "metadata": {},
   "outputs": [
    {
     "name": "stdout",
     "output_type": "stream",
     "text": [
      "original:7.0, adversial:9.0\n",
      "original:6.0, adversial:0.0\n",
      "original:6.0, adversial:5.0\n",
      "original:9.0, adversial:8.0\n",
      "original:3.0, adversial:8.0\n",
      "original:4.0, adversial:9.0\n",
      "original:4.0, adversial:7.0\n",
      "original:1.0, adversial:4.0\n",
      "original:2.0, adversial:0.0\n",
      "original:3.0, adversial:5.0\n",
      "original:3.0, adversial:9.0\n",
      "original:7.0, adversial:9.0\n",
      "original:6.0, adversial:0.0\n",
      "original:6.0, adversial:0.0\n",
      "original:1.0, adversial:8.0\n",
      "original:0.0, adversial:6.0\n",
      "original:8.0, adversial:9.0\n",
      "original:1.0, adversial:7.0\n",
      "original:1.0, adversial:3.0\n",
      "original:7.0, adversial:9.0\n",
      "Test accuracy on Adversial examples is 0.014\n"
     ]
    }
   ],
   "source": [
    "nTest = 1000\n",
    "Y_pred_adv = np.zeros(nTest)\n",
    "for i in range(nTest):\n",
    "    x, y = X_test[i], Y_test[i]\n",
    "    x = clf.fgm_attack(x,y)\n",
    "    Y_pred_adv[i] = clf.predict(x)\n",
    "    if i%50==0:\n",
    "        print(\"original:{}, adversial:{}\".format(Y_pred[i], Y_pred_adv[i]))      \n",
    "acc = np.sum(Y_pred_adv == Y_test[:nTest])*1.0/nTest\n",
    "print (\"Test accuracy on Adversial examples is\", acc)"
   ]
  },
  {
   "cell_type": "code",
   "execution_count": 8,
   "metadata": {},
   "outputs": [
    {
     "data": {
      "image/png": "[encoded data removed]",
      "text/plain": [
       "<Figure size 864x864 with 2 Axes>"
      ]
     },
     "metadata": {},
     "output_type": "display_data"
    }
   ],
   "source": [
    "# Plotting a prediction on a sample\n",
    "x = X_test[100]\n",
    "y = clf.predict(x)\n",
    "x_ = clf.fgm_attack(x, y)\n",
    "y_ = clf.predict(x_)\n",
    "\n",
    "pixels = x.reshape((28,28))\n",
    "pixels_ = x_.reshape((28,28))\n",
    "\n",
    "figure = plt.figure(figsize=(12,12))\n",
    "ax1 = figure.add_subplot(121)\n",
    "plt.title(\"Original Image, Predicted label=\"+str(y), fontsize=18)\n",
    "ax1.imshow(pixels,cmap=\"gray\")\n",
    "\n",
    "ax2 = figure.add_subplot(122)\n",
    "plt.title(\"Perturbed Image, Predicted label=\"+str(y_), fontsize=18)\n",
    "ax2.imshow(pixels_,cmap=\"gray\")\n",
    "\n",
    "plt.show()"
   ]
  },
  {
   "cell_type": "code",
   "execution_count": 9,
   "metadata": {},
   "outputs": [
    {
     "name": "stdout",
     "output_type": "stream",
     "text": [
      "Test accuracy on Adversial examples with epsilon: 0.05 is: 0.335\n",
      "Test accuracy on Adversial examples with epsilon: 0.1 is: 0.014\n",
      "Test accuracy on Adversial examples with epsilon: 0.15 is: 0.002\n",
      "Test accuracy on Adversial examples with epsilon: 0.2 is: 0.0\n"
     ]
    }
   ],
   "source": [
    "nTest = 1000\n",
    "eps = [0.05, 0.1, 0.15, 0.2]\n",
    "eps_acc = {}\n",
    "for ep in eps:\n",
    "    preds = np.zeros(nTest)\n",
    "    for i in range(nTest):\n",
    "        x, y = X_test[i], Y_test[i]\n",
    "        x = clf.fgm_attack(x,y,eps=ep)\n",
    "        preds[i] = clf.predict(x)\n",
    "     \n",
    "    acc = np.sum(preds == Y_test[:nTest])*1.0/nTest\n",
    "    print (\"Test accuracy on Adversial examples with epsilon: {} is: {}\".format(ep, acc))\n",
    "    eps_acc[ep] = acc"
   ]
  },
  {
   "cell_type": "code",
   "execution_count": null,
   "metadata": {},
   "outputs": [],
   "source": []
  },
  {
   "cell_type": "markdown",
   "metadata": {},
   "source": [
    "### New Algorithm"
   ]
  },
  {
   "cell_type": "markdown",
   "metadata": {},
   "source": [
    "### 1.1 Targeted-Fast Gradient Method"
   ]
  },
  {
   "cell_type": "code",
   "execution_count": 10,
   "metadata": {},
   "outputs": [
    {
     "name": "stdout",
     "output_type": "stream",
     "text": [
      "Test accuracy on Adversial examples with epsilon: 0.05 is: 0.617\n",
      "Test accuracy on Adversial examples with epsilon: 0.1 is: 0.101\n",
      "Test accuracy on Adversial examples with epsilon: 0.15 is: 0.01\n",
      "Test accuracy on Adversial examples with epsilon: 0.2 is: 0.003\n"
     ]
    }
   ],
   "source": [
    "nTest = 1000\n",
    "eps = [0.05, 0.1, 0.15, 0.2]\n",
    "eps_acc = {}\n",
    "for ep in eps:\n",
    "    preds = np.zeros(nTest)\n",
    "    for i in range(nTest):\n",
    "        x, y = X_test[i], Y_test[i]\n",
    "        x = clf.tfgm_attack(x,y,eps=ep)\n",
    "        preds[i] = clf.predict(x)\n",
    "\n",
    "    acc = np.sum(preds == Y_test[:nTest])*1.0/nTest\n",
    "    print (\"Test accuracy on Adversial examples with epsilon: {} is: {}\".format(ep, acc))\n",
    "    eps_acc[ep] = acc"
   ]
  },
  {
   "cell_type": "markdown",
   "metadata": {},
   "source": [
    "### 1.2 Gaussian Noise Sign Method"
   ]
  },
  {
   "cell_type": "code",
   "execution_count": 7,
   "metadata": {},
   "outputs": [],
   "source": [
    "def gaussian_noise_attack(x, eps):\n",
    "    # adds gaussian noise to the data\n",
    "    x_ = np.random.normal(0., 4., x.shape[0])\n",
    "    #x_ = np.clip(x_, -1, 1)\n",
    "    x = x + (eps * np.sign(x_))\n",
    "    return x\n",
    "\n",
    "def uniform_noise_attack(x, eps):\n",
    "    # adds uniform noise to the data\n",
    "    x_ = np.random.uniform(-4, 4, x.shape[0])\n",
    "    x = x + (eps * np.sign(x_))\n",
    "    return x"
   ]
  },
  {
   "cell_type": "code",
   "execution_count": 8,
   "metadata": {},
   "outputs": [
    {
     "name": "stdout",
     "output_type": "stream",
     "text": [
      "Epsilon: 0.05\n",
      "Mean accuracy:97.50399999999999, Standard Deviation:0.13395095051121347\n",
      "Error at confidence of 95%: 0.03712930917752217\n",
      "Epsilon: 0.1\n",
      "Mean accuracy:97.2, Standard Deviation:0.2740475156178699\n",
      "Error at confidence of 95%: 0.07596209581100305\n",
      "Epsilon: 0.15\n",
      "Mean accuracy:96.67399999999999, Standard Deviation:0.3042622392017803\n",
      "Error at confidence of 95%: 0.08433718989864424\n",
      "Epsilon: 0.2\n",
      "Mean accuracy:95.71, Standard Deviation:0.47862473050717086\n",
      "Error at confidence of 95%: 0.1326680066934001\n"
     ]
    }
   ],
   "source": [
    "nTest = 1000\n",
    "eps = [0.05, 0.10, 0.15, 0.20]\n",
    "eps_acc = defaultdict(list)\n",
    "runs = 50\n",
    "for ep in eps:\n",
    "    for j in range(runs):\n",
    "        preds = np.zeros(nTest)\n",
    "        for i in range(nTest):\n",
    "            x, y = X_test[i], Y_test[i]\n",
    "            x = gaussian_noise_attack(x, eps=ep)\n",
    "            preds[i] = clf.predict(x)\n",
    "     \n",
    "        acc = np.sum(preds == Y_test[:nTest])*1.0/nTest\n",
    "        eps_acc[ep].append(acc*100)\n",
    "    \n",
    "    mean = statistics.mean(eps_acc[ep])\n",
    "    std = statistics.stdev(eps_acc[ep])\n",
    "    error = (1.96 * std)/ math.sqrt(len(eps_acc[ep]))\n",
    "    print(\"Epsilon: {}\".format(ep))\n",
    "    print(\"Mean accuracy:{}, Standard Deviation:{}\".format(mean, std))\n",
    "    print(\"Error at confidence of 95%: {}\".format(error))"
   ]
  },
  {
   "cell_type": "code",
   "execution_count": 11,
   "metadata": {},
   "outputs": [
    {
     "data": {
      "image/png": "[encoded data removed]",
      "text/plain": [
       "<Figure size 720x576 with 1 Axes>"
      ]
     },
     "metadata": {},
     "output_type": "display_data"
    }
   ],
   "source": [
    "import numpy as np\n",
    "import matplotlib.mlab as mlab\n",
    "import matplotlib.pyplot as plt\n",
    "\n",
    "plt.figure(figsize=(10,8))\n",
    "\n",
    "# the histogram of the data\n",
    "n, bins, patches = plt.hist(100-np.array(eps_acc[0.20]), facecolor='green', alpha=0.75, bins=10)\n",
    "\n",
    "plt.xlabel('Error in percentage', fontsize=20)\n",
    "plt.ylabel('Frequency', fontsize=20)\n",
    "plt.title('Histogram of random Gaussian Noise Sign Method', fontsize=20)\n",
    "plt.grid(True)\n",
    "\n",
    "plt.savefig('gaussnoise.png', format='png', dpi=300)"
   ]
  },
  {
   "cell_type": "code",
   "execution_count": null,
   "metadata": {},
   "outputs": [],
   "source": []
  },
  {
   "cell_type": "code",
   "execution_count": null,
   "metadata": {},
   "outputs": [],
   "source": []
  },
  {
   "cell_type": "code",
   "execution_count": null,
   "metadata": {},
   "outputs": [],
   "source": []
  },
  {
   "cell_type": "code",
   "execution_count": null,
   "metadata": {},
   "outputs": [],
   "source": []
  }
 ],
 "metadata": {
  "kernelspec": {
   "display_name": "Python 3",
   "language": "python",
   "name": "python3"
  },
  "language_info": {
   "codemirror_mode": {
    "name": "ipython",
    "version": 3
   },
   "file_extension": ".py",
   "mimetype": "text/x-python",
   "name": "python",
   "nbconvert_exporter": "python",
   "pygments_lexer": "ipython3",
   "version": "3.6.8"
  }
 },
 "nbformat": 4,
 "nbformat_minor": 2
}
